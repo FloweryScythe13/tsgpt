{
 "cells": [
  {
   "cell_type": "markdown",
   "id": "1c045b86-ee4d-4101-aff3-0928e3171023",
   "metadata": {},
   "source": [
    "# Create an API agent\n",
    "\n",
    "\n",
    "\n",
    "This is template sets up an agent that uses an API via natural language, using the Klarna API as an example."
   ]
  },
  {
   "cell_type": "code",
   "execution_count": null,
   "id": "9b76c5e8-6809-470b-b534-68fd33f8e116",
   "metadata": {},
   "outputs": [],
   "source": [
    "%setup langchain openai"
   ]
  },
  {
   "cell_type": "code",
   "execution_count": null,
   "id": "f9d53a01-11da-472d-9446-58c2d041ea0d",
   "metadata": {
    "tags": []
   },
   "outputs": [],
   "source": [
    "from typing import List, Optional\n",
    "\n",
    "from langchain.chains import LLMChain\n",
    "\n",
    "from langchain.chat_models import ChatOpenAI\n",
    "\n",
    "from langchain.prompts import PromptTemplate\n",
    "\n",
    "from langchain.requests import Requests\n",
    "\n",
    "from langchain.tools import APIOperation, OpenAPISpec\n",
    "\n",
    "from langchain.agents import AgentType, Tool, initialize_agent\n",
    "\n",
    "from langchain.agents.agent_toolkits import NLAToolkit\n",
    "\n",
    "from langchain.chains.api import open_meteo_docs\n",
    "\n",
    "from langchain.tools import OpenAPISpec"
   ]
  },
  {
   "cell_type": "code",
   "execution_count": null,
   "id": "ecb4452d-9b01-4097-b4c2-88a703626f7d",
   "metadata": {
    "tags": []
   },
   "outputs": [],
   "source": [
    "llm = ChatOpenAI(temperature=0) \n",
    "\n",
    "klarna_toolkit = NLAToolkit.from_llm_and_url(llm, \"https://www.klarna.com/us/shopping/public/openai/v0/api-docs/\")\n",
    "\n",
    "\n",
    "\n",
    "openapi_format_instructions = \"\"\"Use the following format:\n",
    "\n",
    "\n",
    "\n",
    "Question: the input question you must answer\n",
    "\n",
    "Thought: you should always think about what to do\n",
    "\n",
    "Action: the action to take, should be one of [{tool_names}]\n",
    "\n",
    "Action Input: what to instruct the AI Action representative.\n",
    "\n",
    "Observation: The Agent's response\n",
    "\n",
    "... (this Thought/Action/Action Input/Observation can repeat N times)\n",
    "\n",
    "Thought: I now know the final answer. User can't see any of my observations, API responses, links, or tools.\n",
    "\n",
    "Final Answer: the final answer to the original input question with the right amount of detail\n",
    "\n",
    "\n",
    "\n",
    "When responding with your Final Answer, remember that the person you are responding to CANNOT see any of your Thought/Action/Action Input/Observations, so if there is any relevant information there you need to include it explicitly in your response.\"\"\"\n",
    "\n",
    "\n",
    "\n",
    "mrkl = initialize_agent(klarna_toolkit.get_tools(), llm, agent=AgentType.ZERO_SHOT_REACT_DESCRIPTION, agent_kwargs={\"format_instructions\":openapi_format_instructions})"
   ]
  }
 ],
 "metadata": {
  "kernelspec": {
   "display_name": "Python 3 (ipykernel)",
   "language": "python",
   "name": "python3"
  },
  "language_info": {
   "codemirror_mode": {
    "name": "ipython",
    "version": 3
   },
   "file_extension": ".py",
   "mimetype": "text/x-python",
   "name": "python",
   "nbconvert_exporter": "python",
   "pygments_lexer": "ipython3",
   "version": "3.9.5"
  }
 },
 "nbformat": 4,
 "nbformat_minor": 5
}
